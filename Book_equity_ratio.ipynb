{
 "cells": [
  {
   "cell_type": "markdown",
   "metadata": {},
   "source": [
    "## Book-Ratio Portfolio\n",
    "### Import of packages and API call\n",
    "\n",
    "You must just add your email to the header as this is required by the SEC and may want to chnage some variables\n"
   ]
  },
  {
   "cell_type": "code",
   "execution_count": 1,
   "metadata": {},
   "outputs": [],
   "source": [
    "import requests\n",
    "import pandas as pd\n",
    "import matplotlib.pyplot as plt\n",
    "import yfinance as yf\n",
    "import time\n",
    "\n",
    "#### Important to set these for your own ###\n",
    "headers = {'User-Agent': \"XXX@gmail.com\"} # Email (SEC wants to know who is accessing it) \n",
    "fund_size = 10000 # Fund size for putting weights into \n",
    "\n",
    "# URL of the JSON data\n",
    "url = \"https://www.sec.gov/files/company_tickers.json\"\n",
    "\n",
    "companyTickers = requests.get(\n",
    "    url,\n",
    "    headers = headers\n",
    ")\n",
    "# parse CIK // without leading zeros\n",
    "directCik = companyTickers.json()['0']['cik_str']\n",
    "\n",
    "# dictionary to dataframe\n",
    "companyData = pd.DataFrame.from_dict(companyTickers.json(),orient='index')\n",
    "\n",
    "# add leading zeros to CIK\n",
    "companyData['cik_str'] = companyData['cik_str'].astype(str).str.zfill(10)"
   ]
  },
  {
   "cell_type": "markdown",
   "metadata": {},
   "source": [
    "We need to eliminate duplicates of companies from the dataframe"
   ]
  },
  {
   "cell_type": "code",
   "execution_count": 2,
   "metadata": {},
   "outputs": [
    {
     "name": "stdout",
     "output_type": "stream",
     "text": [
      "         cik_str ticker                         title\n",
      "0     0000320193   AAPL                    Apple Inc.\n",
      "1     0000789019   MSFT                MICROSOFT CORP\n",
      "2     0001045810   NVDA                   NVIDIA CORP\n",
      "3     0001652044  GOOGL                 Alphabet Inc.\n",
      "4     0001018724   AMZN                AMAZON COM INC\n",
      "...          ...    ...                           ...\n",
      "7963  0001941189  TANAF  Tian'an Technology Group Ltd\n",
      "7964  0001976663   NXNT               Nexscient, Inc.\n",
      "7965  0001947158  SRKKS    Public Shrek Royalties LLC\n",
      "7966  0001951378  QLUNF              Qilun Group Inc.\n",
      "7967  0002000762   GMTH                   GMTech Inc.\n",
      "\n",
      "[7968 rows x 3 columns]\n"
     ]
    }
   ],
   "source": [
    "df_unique = companyData.drop_duplicates(subset=companyData.columns[2]).reset_index(drop= True)\n",
    "print(df_unique)"
   ]
  },
  {
   "cell_type": "code",
   "execution_count": 3,
   "metadata": {},
   "outputs": [
    {
     "name": "stdout",
     "output_type": "stream",
     "text": [
      "15204137000\n",
      "264904000000\n"
     ]
    }
   ],
   "source": [
    "cik = '0000320193'\n",
    "companyFacts = requests.get(\n",
    "        f'https://data.sec.gov/api/xbrl/companyfacts/CIK{cik}.json',\n",
    "        headers=headers\n",
    "        )\n",
    "print(int(companyFacts.json()['facts']['dei']['EntityCommonStockSharesOutstanding']['units']['shares'][-1]['val']))\n",
    "print(companyFacts.json()['facts']['us-gaap']['Liabilities']['units']['USD'][-1]['val'])\n"
   ]
  },
  {
   "cell_type": "markdown",
   "metadata": {},
   "source": [
    "Now we can finally work with financial Data. So we create a loop that goes through each CIK to get the data we want from each company that is filling to the SEC.\n",
    "But we have to make sure that we just get the data from the 10-K reports, because we want to predict annual data and not quarterly data.\n",
    "We have to handle refilings and duplicates."
   ]
  },
  {
   "cell_type": "markdown",
   "metadata": {},
   "source": [
    "I want to calculate the current market capitalization:\n",
    "For this we will have to get current market prices per share and additionally we will have to get the outstanding shares and the multiply with each other."
   ]
  },
  {
   "cell_type": "code",
   "execution_count": 4,
   "metadata": {},
   "outputs": [],
   "source": [
    "def get_current_price(symbol):\n",
    "    ticker = yf.Ticker(symbol)\n",
    "    todays_data = ticker.history(period='1d')\n",
    "    return  todays_data['Close'].iloc[0]"
   ]
  },
  {
   "cell_type": "code",
   "execution_count": null,
   "metadata": {},
   "outputs": [],
   "source": [
    "df_unique['market cap'] = 0\n",
    "df_unique['Book Value'] = 0\n",
    "\n",
    "for i in range(len(df_unique['cik_str'])):\n",
    "    try:\n",
    "        cik = df_unique['cik_str'][i]\n",
    "        companyFacts = requests.get(\n",
    "        f'https://data.sec.gov/api/xbrl/companyfacts/CIK{cik}.json',\n",
    "        headers=headers\n",
    "        )\n",
    "        print('Processing: ' + df_unique['ticker'][i])\n",
    "    \n",
    "        shares_outstanding = int(companyFacts.json()['facts']['dei']['EntityCommonStockSharesOutstanding']['units']['shares'][-1]['val'])\n",
    "        Assets = int(companyFacts.json()['facts']['us-gaap']['Assets']['units']['USD'][-1]['val'])\n",
    "        Liabilities = int(companyFacts.json()['facts']['us-gaap']['Liabilities']['units']['USD'][-1]['val'])\n",
    "        print(Assets)\n",
    "        \n",
    "        Book_Value = Assets - Liabilities\n",
    "        current_price = get_current_price(df_unique['ticker'][i])\n",
    "        market_cap = current_price * shares_outstanding\n",
    "        \n",
    "        df_unique.loc[i, 'market cap'] = market_cap\n",
    "        df_unique.loc[i, 'Book Value'] = Book_Value\n",
    "\n",
    "        #EDGAR rate 10 calls per sec https://www.sec.gov/filergroup/announcements-old/new-rate-control-limits\n",
    "        if i % 10 -1 == 0 and i != 0:\n",
    "            time.sleep(1) \n",
    "    except Exception as e:    \n",
    "        print(e)\n",
    "        continue\n",
    "\n",
    "    "
   ]
  },
  {
   "cell_type": "markdown",
   "metadata": {},
   "source": [
    "As visible (will executing the code before) there a number of different reasons why this might fail, either the data is not available from the SEC .json or for the company is no price data available on yfinance. To show how sever this situation we just have to count 0.\n",
    "Afterwards this following code will drop the null rows."
   ]
  },
  {
   "cell_type": "code",
   "execution_count": null,
   "metadata": {},
   "outputs": [],
   "source": [
    "df_unique.isin([0]).sum(axis=0)\n",
    "df_unique = df_unique.dropna(axis = 1)\n",
    "df_unique.info()\n",
    "# "
   ]
  },
  {
   "cell_type": "code",
   "execution_count": null,
   "metadata": {},
   "outputs": [],
   "source": [
    "df_unique = df_unique.loc[df_unique['market cap'] != 0]\n",
    "print(df_unique.head(10))"
   ]
  },
  {
   "cell_type": "markdown",
   "metadata": {},
   "source": [
    "Now that we have a dataframe with market capitalization and the bookvalue, we can calculate the ratio between the two to get the \"safest\" investments in the case of an bankruptcy \n",
    "\n",
    "(I know that this is not a \"really\" valuable insight but this notebooks primary purpose is to show that I can work with python in an financial environment)"
   ]
  },
  {
   "cell_type": "code",
   "execution_count": null,
   "metadata": {},
   "outputs": [],
   "source": [
    "df_unique['sector'] = '0'\n",
    "for index, row in df_unique.iterrows():\n",
    "    ticker = yf.Ticker(row['ticker'])  # Access the 'ticker' for the current row\n",
    "    info = ticker.info\n",
    "    if info:\n",
    "        sector = ticker.info.get('sector','Unknown' )  # Fetch the sector, use 'Unknown' if not found\n",
    "    else:\n",
    "        sector = 'Unknown'\n",
    "    df_unique.at[index, 'sector'] = sector \n",
    "\n",
    "print(df_unique)\n",
    "#for each in df_unique['sector']:\n",
    "    #donwload market data, compare correlation and if above certain freshhold"
   ]
  },
  {
   "cell_type": "markdown",
   "metadata": {},
   "source": [
    "## Portfolio Building and Optimization ##\n",
    "Now lets build a simple portfolio that takes one stock from each sector. We could also group the stocks by sector and define subsectors by letting the stocks correrlate, but for that we would have to download a time periode (1year) of each stock which would take some time... \n",
    "\n",
    "*You could link that with a if above SMA30 then and lowest Ratio then buy but for simplicty sake.\n",
    "\n",
    "Since we would want to have some sort of risk management, this jupyter notebook will implement a Risk parity approach.\n",
    "(of course a 1/n would have been simpler, and there are other options e.g. Kelly criterion, Black-Littermann approach or the minimum variance or a mean variance optimization)\n",
    "\n"
   ]
  },
  {
   "cell_type": "code",
   "execution_count": null,
   "metadata": {},
   "outputs": [],
   "source": [
    "df_unique['ratio'] = df_unique['Book Value']/df_unique['market cap']\n",
    "print(df_unique)\n",
    "    "
   ]
  },
  {
   "cell_type": "code",
   "execution_count": null,
   "metadata": {},
   "outputs": [],
   "source": [
    "assets = pd.DataFrame(columns=df_unique.columns)\n",
    "\n",
    "idx = df_unique.groupby('sector')['ratio'].idxmax()\n",
    "max_ratio_assets = df_unique.loc[idx]\n",
    "assets = df_unique.loc[idx]\n",
    "print(assets)\n"
   ]
  },
  {
   "cell_type": "markdown",
   "metadata": {},
   "source": [
    "Now that we have our portfolio, we can manage its risk.\n",
    "As mentioned we will use the Risk parity approach for calculating the size of the assets."
   ]
  },
  {
   "cell_type": "code",
   "execution_count": 42,
   "metadata": {},
   "outputs": [
    {
     "name": "stdout",
     "output_type": "stream",
     "text": [
      "Date\n",
      "2023-01-03 00:00:00-05:00    56.075256\n",
      "2023-01-04 00:00:00-05:00    56.075256\n",
      "2023-01-05 00:00:00-05:00    56.714836\n",
      "2023-01-06 00:00:00-05:00    56.795906\n",
      "2023-01-09 00:00:00-05:00    57.595207\n",
      "                               ...    \n",
      "2024-08-28 00:00:00-04:00    62.150002\n",
      "2024-08-29 00:00:00-04:00    62.634998\n",
      "2024-08-30 00:00:00-04:00    62.599998\n",
      "2024-09-03 00:00:00-04:00    62.599998\n",
      "2024-09-04 00:00:00-04:00    59.830002\n",
      "Name: Close, Length: 420, dtype: float64\n",
      "Date\n",
      "2023-01-03 00:00:00-05:00    34.032543\n",
      "2023-01-04 00:00:00-05:00    35.149311\n",
      "2023-01-05 00:00:00-05:00    35.669189\n",
      "2023-01-06 00:00:00-05:00    36.497135\n",
      "2023-01-09 00:00:00-05:00    37.151791\n",
      "                               ...    \n",
      "2024-08-28 00:00:00-04:00    29.020000\n",
      "2024-08-29 00:00:00-04:00    28.680000\n",
      "2024-08-30 00:00:00-04:00    28.610001\n",
      "2024-09-03 00:00:00-04:00    27.940001\n",
      "2024-09-04 00:00:00-04:00    28.090000\n",
      "Name: Close, Length: 420, dtype: float64\n",
      "Date\n",
      "2023-01-03 00:00:00-05:00    31.084999\n",
      "2023-01-04 00:00:00-05:00    29.455000\n",
      "2023-01-05 00:00:00-05:00    29.209999\n",
      "2023-01-06 00:00:00-05:00    28.500000\n",
      "2023-01-09 00:00:00-05:00    26.225000\n",
      "                               ...    \n",
      "2024-08-28 00:00:00-04:00     0.000300\n",
      "2024-08-29 00:00:00-04:00     0.000300\n",
      "2024-08-30 00:00:00-04:00     0.000300\n",
      "2024-09-03 00:00:00-04:00     0.000300\n",
      "2024-09-04 00:00:00-04:00     0.000300\n",
      "Name: Close, Length: 420, dtype: float64\n",
      "Date\n",
      "2023-01-03 00:00:00-05:00    7.2200\n",
      "2023-01-04 00:00:00-05:00    7.7400\n",
      "2023-01-05 00:00:00-05:00    6.8200\n",
      "2023-01-06 00:00:00-05:00    7.0000\n",
      "2023-01-09 00:00:00-05:00    7.3695\n",
      "                              ...  \n",
      "2024-08-28 00:00:00-04:00    0.0001\n",
      "2024-08-29 00:00:00-04:00    0.0001\n",
      "2024-08-30 00:00:00-04:00    0.0001\n",
      "2024-09-03 00:00:00-04:00    0.0001\n",
      "2024-09-04 00:00:00-04:00    0.0001\n",
      "Name: Close, Length: 420, dtype: float64\n",
      "Date\n",
      "2023-01-03 00:00:00-05:00    0.0260\n",
      "2023-01-04 00:00:00-05:00    0.0260\n",
      "2023-01-05 00:00:00-05:00    0.0260\n",
      "2023-01-06 00:00:00-05:00    0.0260\n",
      "2023-01-09 00:00:00-05:00    0.0300\n",
      "                              ...  \n",
      "2024-08-28 00:00:00-04:00    0.0002\n",
      "2024-08-29 00:00:00-04:00    0.0002\n",
      "2024-08-30 00:00:00-04:00    0.0002\n",
      "2024-09-03 00:00:00-04:00    0.0002\n",
      "2024-09-04 00:00:00-04:00    0.0002\n",
      "Name: Close, Length: 420, dtype: float64\n",
      "Date\n",
      "2023-01-03 00:00:00-05:00    20.374208\n",
      "2023-01-04 00:00:00-05:00    20.906174\n",
      "2023-01-05 00:00:00-05:00    21.079058\n",
      "2023-01-06 00:00:00-05:00    21.535666\n",
      "2023-01-09 00:00:00-05:00    21.562262\n",
      "                               ...    \n",
      "2024-08-28 00:00:00-04:00    24.600000\n",
      "2024-08-29 00:00:00-04:00    24.549999\n",
      "2024-08-30 00:00:00-04:00    24.650000\n",
      "2024-09-03 00:00:00-04:00    24.610001\n",
      "2024-09-04 00:00:00-04:00    24.680000\n",
      "Name: Close, Length: 420, dtype: float64\n",
      "Date\n",
      "2023-01-03 00:00:00-05:00    14.595000\n",
      "2023-01-04 00:00:00-05:00    15.080000\n",
      "2023-01-05 00:00:00-05:00    15.400000\n",
      "2023-01-06 00:00:00-05:00    27.750000\n",
      "2023-01-09 00:00:00-05:00    23.709999\n",
      "                               ...    \n",
      "2024-08-28 00:00:00-04:00     0.000100\n",
      "2024-08-29 00:00:00-04:00     0.000100\n",
      "2024-08-30 00:00:00-04:00     0.000100\n",
      "2024-09-03 00:00:00-04:00     0.000100\n",
      "2024-09-04 00:00:00-04:00     0.000100\n",
      "Name: Close, Length: 420, dtype: float64\n",
      "Date\n",
      "2023-01-03 00:00:00-05:00    4.31680\n",
      "2023-01-04 00:00:00-05:00    4.58640\n",
      "2023-01-05 00:00:00-05:00    4.57600\n",
      "2023-01-06 00:00:00-05:00    4.72640\n",
      "2023-01-09 00:00:00-05:00    4.82640\n",
      "                              ...   \n",
      "2024-08-28 00:00:00-04:00    0.00001\n",
      "2024-08-29 00:00:00-04:00    0.00001\n",
      "2024-08-30 00:00:00-04:00    0.00001\n",
      "2024-09-03 00:00:00-04:00    0.00001\n",
      "2024-09-04 00:00:00-04:00    0.00001\n",
      "Name: Close, Length: 420, dtype: float64\n",
      "Date\n",
      "2023-01-03 00:00:00-05:00    1.93\n",
      "2023-01-04 00:00:00-05:00    1.95\n",
      "2023-01-05 00:00:00-05:00    1.94\n",
      "2023-01-06 00:00:00-05:00    1.98\n",
      "2023-01-09 00:00:00-05:00    1.99\n",
      "                             ... \n",
      "2024-08-28 00:00:00-04:00    1.47\n",
      "2024-08-29 00:00:00-04:00    1.50\n",
      "2024-08-30 00:00:00-04:00    1.45\n",
      "2024-09-03 00:00:00-04:00    1.49\n",
      "2024-09-04 00:00:00-04:00    1.53\n",
      "Name: Close, Length: 420, dtype: float64\n",
      "Date\n",
      "2023-01-03 00:00:00-05:00    24.600000\n",
      "2023-01-04 00:00:00-05:00    27.799999\n",
      "2023-01-05 00:00:00-05:00    26.799999\n",
      "2023-01-06 00:00:00-05:00    27.799999\n",
      "2023-01-09 00:00:00-05:00    28.200001\n",
      "                               ...    \n",
      "2024-08-28 00:00:00-04:00     3.250000\n",
      "2024-08-29 00:00:00-04:00     3.480000\n",
      "2024-08-30 00:00:00-04:00     3.350000\n",
      "2024-09-03 00:00:00-04:00     3.250000\n",
      "2024-09-04 00:00:00-04:00     3.290000\n",
      "Name: Close, Length: 420, dtype: float64\n",
      "Date\n",
      "2023-01-03 00:00:00-05:00     9.672432\n",
      "2023-01-04 00:00:00-05:00    10.371837\n",
      "2023-01-05 00:00:00-05:00    10.801015\n",
      "2023-01-06 00:00:00-05:00    11.794487\n",
      "2023-01-09 00:00:00-05:00    11.746799\n",
      "                               ...    \n",
      "2024-08-28 00:00:00-04:00    12.624431\n",
      "2024-08-29 00:00:00-04:00    12.702001\n",
      "2024-08-30 00:00:00-04:00    12.570000\n",
      "2024-09-03 00:00:00-04:00    12.150000\n",
      "2024-09-04 00:00:00-04:00    12.000000\n",
      "Name: Close, Length: 420, dtype: float64\n",
      "Date\n",
      "2023-01-03 00:00:00-05:00     97.150002\n",
      "2023-01-04 00:00:00-05:00    102.400002\n",
      "2023-01-05 00:00:00-05:00    103.099998\n",
      "2023-01-06 00:00:00-05:00     96.375000\n",
      "2023-01-09 00:00:00-05:00    104.250000\n",
      "                                ...    \n",
      "2024-08-28 00:00:00-04:00      0.000200\n",
      "2024-08-29 00:00:00-04:00      0.000200\n",
      "2024-08-30 00:00:00-04:00      0.000200\n",
      "2024-09-03 00:00:00-04:00      0.000200\n",
      "2024-09-04 00:00:00-04:00      0.000200\n",
      "Name: Close, Length: 420, dtype: float64\n",
      "Weights: [2.96546621e-01 1.40066825e-01 3.24081551e-04 3.62517645e-03\n",
      " 2.05373322e-04 4.20652367e-01 3.72117756e-03 2.68020121e-03\n",
      " 6.81009448e-02 1.49452490e-02 4.91304121e-02 1.57172482e-06]\n"
     ]
    }
   ],
   "source": [
    "import numpy as np\n",
    "\n",
    "var = []  \n",
    "\n",
    "for index, each in assets.iterrows():\n",
    "    ticker = yf.Ticker(each['ticker'])  \n",
    "    close = ticker.history(start=\"2023-01-01\", end='2024-09-05', interval=\"1d\")  \n",
    "    print(close['Close'])\n",
    "    if 'Close' in close.columns:  # Check if 'Close' exists in the data\n",
    "        inverse_var1 = 1/np.var(close['Close'].pct_change())\n",
    "        var.append(inverse_var1)\n",
    "    else:\n",
    "        print(f\"Ticker {each['ticker']} does not have close price data.\")\n",
    "\n",
    "var = np.array(var) \n",
    "weights = var / var.sum()  \n",
    "assets['weigths'] = weights\n",
    "\n",
    "print(\"Weights:\", weights)\n"
   ]
  },
  {
   "cell_type": "markdown",
   "metadata": {},
   "source": [
    "Well but what does that mean in dollar terms?\n",
    "We started with a declared variable of 10000$\n",
    "\n",
    "Risk pariety has the advantage, that it works with variance, which takes into consideration how many datapoint we have.\n",
    "So in theory at least it does not matter that a stock is only listed eg. 2 days ago. "
   ]
  },
  {
   "cell_type": "code",
   "execution_count": 40,
   "metadata": {},
   "outputs": [
    {
     "name": "stdout",
     "output_type": "stream",
     "text": [
      "275                       EIDP, Inc. 2965.466205149561\n",
      "711        Warner Music Group Corp. 1400.6682475554633\n",
      "7246               Polished.com Inc. 3.240815510961606\n",
      "7260            Kalera Public Ltd Co 36.25176446069855\n",
      "7134         DAYBREAK OIL & GAS, INC. 2.05373321512146\n",
      "7855    American National Group Inc. 4206.523670199632\n",
      "7257        MedAvail Holdings, Inc. 37.211775564898716\n",
      "7903       Shapeways Holdings, Inc. 26.802012119553936\n",
      "5458           Rafael Holdings, Inc. 681.0094480514706\n",
      "4887                   Vacasa, Inc. 149.45248988412624\n",
      "7387                        QVC INC 491.30412104028005\n",
      "7191           VISION ENERGY Corp 0.015717248233071458\n",
      "dtype: object\n"
     ]
    }
   ],
   "source": [
    "fund_size = 10000\n",
    "output = assets['title'] + ' ' + (assets['weigths'] * fund_size).astype(str)\n",
    "print(output)"
   ]
  },
  {
   "cell_type": "markdown",
   "metadata": {},
   "source": [
    "All done, we now have our portfolio with allocated assets."
   ]
  }
 ],
 "metadata": {
  "kernelspec": {
   "display_name": "base",
   "language": "python",
   "name": "python3"
  },
  "language_info": {
   "codemirror_mode": {
    "name": "ipython",
    "version": 3
   },
   "file_extension": ".py",
   "mimetype": "text/x-python",
   "name": "python",
   "nbconvert_exporter": "python",
   "pygments_lexer": "ipython3",
   "version": "3.12.3"
  }
 },
 "nbformat": 4,
 "nbformat_minor": 2
}
